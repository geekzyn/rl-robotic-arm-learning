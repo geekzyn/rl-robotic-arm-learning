{
 "cells": [
  {
   "cell_type": "code",
   "execution_count": null,
   "metadata": {},
   "outputs": [],
   "source": [
    "import numpy as np\n",
    "from matplotlib import pyplot as plt\n",
    "reward = np.load('reward_log.npy')\n",
    "\n",
    "def smooth(y, radius=10, mode='two_sided'):\n",
    "    if len(y) < 2*radius+1:\n",
    "        return np.ones_like(y) * y.mean()\n",
    "    elif mode == 'two_sided':\n",
    "        convkernel = np.ones(2 * radius+1)\n",
    "        return np.convolve(y, convkernel, mode='same') / \\\n",
    "               np.convolve(np.ones_like(y), convkernel, mode='same')\n",
    "    elif mode == 'causal':\n",
    "        convkernel = np.ones(radius)\n",
    "        out = np.convolve(y, convkernel,mode='full') / \\\n",
    "              np.convolve(np.ones_like(y), convkernel, mode='full')\n",
    "        return out[:-radius+1]\n",
    "\n",
    "    \n",
    "def moving_sum(y, window=100):\n",
    "    c = y.cumsum()\n",
    "    c[window:] = c[window:] - c[:-window]\n",
    "    return c/float(window)\n",
    "\n",
    "def success_filter(r, threshold=4):\n",
    "    success_list=np.zeros(len(r))\n",
    "    success_list[np.where(r>threshold)]=1  # reward larger than threshold indicates successful grasping\n",
    "    return success_list\n",
    "    \n",
    "success_list=np.zeros(len(reward))\n",
    "success_list[np.where(reward>4)]=1  # reward larger than 0 indicates successful grasping\n",
    "\n",
    "early_stop=400000\n",
    "\n",
    "fig, axs = plt.subplots(2)\n",
    "# plot smoothed reward curve\n",
    "axs[0].plot(smooth(reward[:early_stop], radius=100))\n",
    "axs[0].set_title('Learning Curve')\n",
    "axs[0].set_ylabel('Smoothed Reward')\n",
    "axs[0].grid()\n",
    "\n",
    "axs[1].plot(moving_sum(success_filter(reward)[:early_stop]))\n",
    "axs[1].set_xlabel('Training Episode')\n",
    "axs[1].set_ylabel('Success Rate')\n",
    "axs[1].grid()\n",
    "plt.tight_layout()\n",
    "plt.savefig('training.pdf')\n",
    "plt.show()"
   ]
  }
 ],
 "metadata": {
  "interpreter": {
   "hash": "5ed3b2e383c216420ec0f0d5babcc606d6f1ea3f4b9bafa6929538519bee70db"
  },
  "kernelspec": {
   "display_name": "Python 3.8.5 64-bit ('base': conda)",
   "name": "python3"
  },
  "language_info": {
   "name": "python",
   "version": ""
  },
  "orig_nbformat": 4
 },
 "nbformat": 4,
 "nbformat_minor": 2
}